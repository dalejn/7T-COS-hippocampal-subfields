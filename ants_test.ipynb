{
 "cells": [
  {
   "cell_type": "code",
   "execution_count": 46,
   "metadata": {
    "collapsed": false
   },
   "outputs": [],
   "source": [
    "# Import modules and set experiment-specific parameters\n",
    "import copy\n",
    "import os\n",
    "from os.path import join as opj\n",
    "from nipype.pipeline.engine import Workflow, Node, MapNode\n",
    "from nipype.interfaces.io import SelectFiles, DataSink\n",
    "from nipype.interfaces.utility import IdentityInterface\n",
    "from nipype.interfaces.ants import Registration\n",
    "\n",
    "filepath = os.path.dirname( os.path.realpath( '__file__'))\n",
    "datadir = os.path.realpath(os.path.join(filepath, ''))\n",
    "os.chdir(datadir)\n",
    "subject_list_test= ['d701']\n",
    "#subject_list = ['d701', 'd702', 'd703', 'd704', 'd705', 'd706', 'd707', \n",
    "#                'd708', 'd709', 'd710', 'd711', 'd712', 'd713', 'd714', \n",
    "#                'd715', 'd716', 'd717', 'd720', 'd722', 'd723', 'd724', \n",
    "#                'd726', 'd727', 'd728', 'd729', 'd730', 'd731', 'd732', \n",
    "#                'd734']"
   ]
  },
  {
   "cell_type": "code",
   "execution_count": 50,
   "metadata": {
    "collapsed": false,
    "scrolled": false
   },
   "outputs": [
    {
     "data": {
      "text/plain": [
       "'antsRegistration --collapse-output-transforms 1 --dimensionality 3 --float 1 --initial-moving-transform [ /spin1/users/Hippo_hr/cpb/ants1/lhipp3_batch/lhtemplate0.nii.gz, /spin1/users/Hippo_hr/cpb/ants1/lhipp3_batch/d701-lab.nii.gz, 1 ] --initialize-transforms-per-stage 0 --interpolation Linear --output [ transform, transform_Warped.nii.gz ] --transform Rigid[ 0.1 ] --metric MeanSquares[ /spin1/users/Hippo_hr/cpb/ants1/lhipp3_batch/lhtemplate0.nii.gz, /spin1/users/Hippo_hr/cpb/ants1/lhipp3_batch/d701-lab.nii.gz, 0.75, 0, None, 0 ] --metric MI[ /spin1/users/Hippo_hr/cpb/ants1/lhipp3_batch/lhtemplate1.nii.gz, /spin1/users/Hippo_hr/cpb/ants1/lhipp3_batch/d701-t1-mask.nii.gz, 0.125, 32, Regular, 0.25 ] --metric MI[ /spin1/users/Hippo_hr/cpb/ants1/lhipp3_batch/lhtemplate2.nii.gz, /spin1/users/Hippo_hr/cpb/ants1/lhipp3_batch/d701-t2s-bfc-mask.nii.gz, 0.125, 32, Regular, 0.25 ] --convergence [ 1000x500x250x0, 1e-06, 10 ] --smoothing-sigmas 4.0x3.0x2.0x1.0vox --shrink-factors 12x8x4x2 --use-histogram-matching 1 --winsorize-image-intensities [ 0.005, 0.995 ]  --write-composite-transform 1'"
      ]
     },
     "execution_count": 50,
     "metadata": {},
     "output_type": "execute_result"
    }
   ],
   "source": [
    "# Rigid node\n",
    "\n",
    "\n",
    "\n",
    "antsreg = Registration()\n",
    "antsreg.inputs.float = True\n",
    "antsreg.inputs.collapse_output_transforms=True\n",
    "antsreg.inputs.fixed_image=['/spin1/users/Hippo_hr/cpb/ants1/lhipp3_batch/lhtemplate0.nii.gz',\n",
    "                            '/spin1/users/Hippo_hr/cpb/ants1/lhipp3_batch/lhtemplate1.nii.gz',\n",
    "                            '/spin1/users/Hippo_hr/cpb/ants1/lhipp3_batch/lhtemplate2.nii.gz']\n",
    "antsreg.inputs.moving_image=['/spin1/users/Hippo_hr/cpb/ants1/lhipp3_batch/d701-lab.nii.gz',\n",
    "                             '/spin1/users/Hippo_hr/cpb/ants1/lhipp3_batch/d701-t1-mask.nii.gz',\n",
    "                             '/spin1/users/Hippo_hr/cpb/ants1/lhipp3_batch/d701-t2s-bfc-mask.nii.gz']\n",
    "antsreg.inputs.initial_moving_transform_com=1\n",
    "antsreg.inputs.num_threads=1\n",
    "antsreg.inputs.output_warped_image=True\n",
    "\n",
    "antsreg.inputs.transforms=['Rigid']\n",
    "antsreg.inputs.terminal_output='stream'\n",
    "antsreg.inputs.winsorize_lower_quantile=0.005\n",
    "antsreg.inputs.winsorize_upper_quantile=0.995\n",
    "antsreg.inputs.convergence_threshold=[1e-06]\n",
    "antsreg.inputs.convergence_window_size=[10]\n",
    "antsreg.inputs.metric=[['MeanSquares','MI','MI']]\n",
    "antsreg.inputs.metric_weight=[[0.75,0.125,0.125]]\n",
    "                              \n",
    "antsreg.inputs.number_of_iterations=[[1000, 500, 250, 0]]\n",
    "antsreg.inputs.smoothing_sigmas=[[4, 3, 2, 1]]\n",
    "antsreg.inputs.sigma_units=['vox']\n",
    "antsreg.inputs.radius_or_number_of_bins=[[0,32,32]]\n",
    "\n",
    "antsreg.inputs.sampling_strategy=[['None',\n",
    "                               'Regular',\n",
    "                               'Regular']]\n",
    "antsreg.inputs.sampling_percentage=[[0,0.25,0.25]]\n",
    "\n",
    "antsreg.inputs.shrink_factors=[[12,8,4,2]]\n",
    "\n",
    "antsreg.inputs.transform_parameters=[[(0.1)]]\n",
    "\n",
    "antsreg.inputs.use_histogram_matching=True\n",
    "antsreg.inputs.write_composite_transform=True\n",
    "\n",
    "test_antsreg_rigid = Node(antsreg,name='test_antsreg_rigid')\n",
    "\n",
    "antsreg.cmdline"
   ]
  },
  {
   "cell_type": "code",
   "execution_count": 48,
   "metadata": {
    "collapsed": false,
    "scrolled": true
   },
   "outputs": [
    {
     "name": "stdout",
     "output_type": "stream",
     "text": [
      "infosource\n"
     ]
    }
   ],
   "source": [
    "# Establish input/output stream\n",
    "\n",
    "infosource = Node(IdentityInterface(fields=['subject_id']), name = \"infosource\")\n",
    "infosource.iterables = [('subject_id', subject_list_test)]\n",
    "\n",
    "lhtemplate_files = opj('lhtemplate*.nii.gz')\n",
    "label_files = opj('{subject_id}-lab.nii.gz')\n",
    "t1_files = opj('{subject_id}-t1-mask.nii.gz')\n",
    "t2_files = opj('{subject_id}-t2s-bfc-mask.nii.gz')\n",
    "\n",
    "templates = {'lhtemplate': lhtemplate_files,\n",
    "            'label_files': label_files,\n",
    "             't1_files': t1_files,\n",
    "             't2_files': t2_files,}\n",
    "selectfiles = Node(SelectFiles(templates, base_directory=datadir), name = \"selectfiles\")\n"
   ]
  },
  {
   "cell_type": "code",
   "execution_count": 55,
   "metadata": {
    "collapsed": false,
    "scrolled": false
   },
   "outputs": [
    {
     "data": {
      "text/plain": [
       "<networkx.classes.digraph.DiGraph at 0x2b05be7b4f98>"
      ]
     },
     "execution_count": 55,
     "metadata": {},
     "output_type": "execute_result"
    }
   ],
   "source": [
    "# Create pipeline and connect nodes\n",
    "workflow = Workflow(name='normflow')\n",
    "workflow.base_dir = '.'\n",
    "workflow.add_nodes([test_antsreg_rigid])\n",
    "#workflow.connect([(infosource, selectfiles, [('subject_id', 'subject_id')]),\n",
    "#                (selectfiles, test_antsreg_rigid, [('lhtemplate','moving_image')]),])\n",
    "workflow.write_graph()\n",
    "workflow.run()"
   ]
  }
 ],
 "metadata": {
  "kernelspec": {
   "display_name": "Python 3",
   "language": "python",
   "name": "python3"
  },
  "language_info": {
   "codemirror_mode": {
    "name": "ipython",
    "version": 3
   },
   "file_extension": ".py",
   "mimetype": "text/x-python",
   "name": "python",
   "nbconvert_exporter": "python",
   "pygments_lexer": "ipython3",
   "version": "3.5.2"
  }
 },
 "nbformat": 4,
 "nbformat_minor": 0
}
