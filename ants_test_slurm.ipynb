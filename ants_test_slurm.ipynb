{
 "cells": [
  {
   "cell_type": "code",
   "execution_count": 38,
   "metadata": {
    "collapsed": false
   },
   "outputs": [],
   "source": [
    "# Import modules and set experiment-specific parameters\n",
    "import copy\n",
    "import os\n",
    "import numpy as np\n",
    "from os.path import join as opj\n",
    "from nipype.pipeline.engine import Workflow, Node, MapNode\n",
    "from nipype.interfaces.io import SelectFiles, DataSink\n",
    "from nipype.interfaces.utility import IdentityInterface\n",
    "from nipype.interfaces.ants import Registration, ApplyTransforms, AverageImages\n",
    "from nipype import config, logging\n",
    "\n",
    "config.enable_debug_mode()\n",
    "logging.update_logging(config)\n",
    "\n",
    "filepath = os.path.dirname( os.path.realpath( '__file__'))\n",
    "datadir = os.path.realpath(os.path.join(filepath, ''))\n",
    "os.chdir(datadir)\n",
    "\n",
    "subject_list = ['d701', 'd702', 'd703', 'd704', 'd705', 'd706', 'd707', \n",
    "                'd708', 'd709', 'd710', 'd711', 'd712', 'd713', 'd714', \n",
    "                'd715', 'd716', 'd717', 'd720', 'd722', 'd723', 'd724', \n",
    "                'd726', 'd727', 'd728', 'd729', 'd730', 'd731', 'd732', \n",
    "                'd734']"
   ]
  },
  {
   "cell_type": "code",
   "execution_count": 39,
   "metadata": {
    "collapsed": false,
    "scrolled": false
   },
   "outputs": [],
   "source": [
    "# Rigid Reg node 1\n",
    "\n",
    "antsreg = Registration()\n",
    "antsreg.inputs.float = True\n",
    "antsreg.inputs.collapse_output_transforms=True\n",
    "antsreg.inputs.output_transform_prefix = 'rigid_'\n",
    "antsreg.inputs.fixed_image=[]\n",
    "antsreg.inputs.moving_image=[]\n",
    "antsreg.inputs.initial_moving_transform_com=1\n",
    "antsreg.inputs.output_warped_image= True\n",
    "antsreg.inputs.transforms=['Rigid']\n",
    "antsreg.inputs.terminal_output='file'\n",
    "antsreg.inputs.winsorize_lower_quantile=0.005\n",
    "antsreg.inputs.winsorize_upper_quantile=0.995\n",
    "antsreg.inputs.convergence_threshold=[1e-06]\n",
    "antsreg.inputs.convergence_window_size=[10]\n",
    "antsreg.inputs.metric=[['MeanSquares','MI','MI']]\n",
    "antsreg.inputs.metric_weight=[[0.75,0.125,0.125]]\n",
    "antsreg.inputs.number_of_iterations=[[1000, 500, 250, 0]]\n",
    "antsreg.inputs.smoothing_sigmas=[[4, 3, 2, 1]]\n",
    "antsreg.inputs.sigma_units=['vox']\n",
    "antsreg.inputs.radius_or_number_of_bins=[[0,32,32]]\n",
    "antsreg.inputs.sampling_strategy=[['None',\n",
    "                               'Regular',\n",
    "                               'Regular']]\n",
    "antsreg.inputs.sampling_percentage=[[0,0.25,0.25]]\n",
    "antsreg.inputs.shrink_factors=[[12,8,4,2]]\n",
    "antsreg.inputs.transform_parameters=[[(0.1)]]\n",
    "antsreg.inputs.use_histogram_matching=True\n",
    "\n",
    "antsreg_rigid = Node(antsreg,name='test_antsreg_rigid')\n",
    "#antsreg.cmdline"
   ]
  },
  {
   "cell_type": "code",
   "execution_count": 40,
   "metadata": {
    "collapsed": false,
    "scrolled": true
   },
   "outputs": [],
   "source": [
    "# Apply Rigid Reg node 1\n",
    "\n",
    "apply_rigid_reg = ApplyTransforms()\n",
    "\n",
    "apply_rigid = MapNode(apply_rigid_reg, \n",
    "                      name = 'apply_rigid', \n",
    "                      iterfield=['input_image','reference_image','transforms'], \n",
    "                      nested = True\n",
    "                     )\n",
    "apply_rigid.inputs.input_image = []\n",
    "apply_rigid.inputs.reference_image = []\n",
    "apply_rigid.inputs.transforms = []\n",
    "apply_rigid.inputs.terminal_output = 'file'\n",
    "#apply_rigid_reg.cmdline"
   ]
  },
  {
   "cell_type": "code",
   "execution_count": 43,
   "metadata": {
    "collapsed": false
   },
   "outputs": [],
   "source": [
    "# Average rigid-transformed images to construct new template\n",
    "\n",
    "avg_rigid = AverageImages()\n",
    "avg_rigid = MapNode(avg_rigid,\n",
    "                   name = 'avg_rigid',\n",
    "                   iterfield=['images'],\n",
    "                    nested = True\n",
    "                   )\n",
    "avg_rigid.inputs.dimension = 3\n",
    "avg_rigid.inputs.images = []\n",
    "avg_rigid.inputs.normalize = True\n",
    "avg_rigid.inputs.terminal_output = 'file'\n",
    "\n",
    "#avg_rigid.cmdline"
   ]
  },
  {
   "cell_type": "code",
   "execution_count": 47,
   "metadata": {
    "collapsed": false,
    "scrolled": false
   },
   "outputs": [],
   "source": [
    "# Establish input/output stream\n",
    "\n",
    "#create subject ID iterable\n",
    "infosource = Node(IdentityInterface(fields=['subject_id']), name = \"infosource\")\n",
    "infosource.iterables = [('subject_id', subject_list)]\n",
    "\n",
    "#create template\n",
    "lhtemplate_files = opj(datadir,'lhtemplate[0, 1, 2].nii.gz')\n",
    "mi_files = opj(datadir,'{subject_id}-*.nii.gz')\n",
    "label_files = opj(datadir,'_subject_id_{subject_id}/apply_rigid/mapflow/_apply_rigid0/*.nii.gz')\n",
    "t1_files = opj(datadir,'_subject_id_{subject_id}/apply_rigid/mapflow/_apply_rigid1/*.nii.gz')\n",
    "t2s_files = opj(datadir,'_subject_id_{subject_id}/apply_rigid/mapflow/_apply_rigid2/*.nii.gz')\n",
    "\n",
    "templates = {'lhtemplate': lhtemplate_files,\n",
    "            'mi': mi_files,\n",
    "            'label_2': label_files,\n",
    "             't1_2': t1_files,\n",
    "             't2s_2': t2s_files,\n",
    "            }\n",
    "\n",
    "#select images organized by subject\n",
    "selectfiles = Node(SelectFiles(templates, force_lists=['lhtemplate','mi','label_2','t1_2','t2s_2'], \n",
    "                               sort_filelist = True, \n",
    "                               base_directory=datadir), \n",
    "                               name = \"selectfiles\")\n",
    "\n",
    "#datasink = Node(DataSink(base_directory= datadir, container = 'output_dir'), name = \"datasink\")\n",
    "#substitutions = [('_subject_id_',''),\n",
    "#                ]"
   ]
  },
  {
   "cell_type": "code",
   "execution_count": 45,
   "metadata": {
    "collapsed": false,
    "scrolled": true
   },
   "outputs": [
    {
     "data": {
      "text/plain": [
       "<networkx.classes.digraph.DiGraph at 0x2ac7886a8a20>"
      ]
     },
     "execution_count": 45,
     "metadata": {},
     "output_type": "execute_result"
    }
   ],
   "source": [
    "#Define function to replicate fwd transforms to match iterfield length\n",
    "def reptrans(forward_transforms):\n",
    "    import numpy as np\n",
    "    nested_list = np.ndarray.tolist(np.tile(forward_transforms,[1,3]))\n",
    "    transforms = [val for sublist in nested_list for val in sublist]\n",
    "    return transforms\n",
    "\n",
    "# Create pipeline and connect nodes\n",
    "workflow = Workflow(name='normflow')\n",
    "workflow.base_dir = datadir\n",
    "\n",
    "#workflow.add_nodes([test_antsreg_rigid])\n",
    "workflow.connect([\n",
    "                (infosource, selectfiles, [('subject_id', 'subject_id')]),\n",
    "                (selectfiles, antsreg_rigid, [('lhtemplate','fixed_image'),('mi','moving_image')]),\n",
    "                (selectfiles, apply_rigid, [('lhtemplate','reference_image'),('mi','input_image')]),\n",
    "                (antsreg_rigid, apply_rigid, [(('forward_transforms',reptrans),'transforms')]),\n",
    "                (selectfiles, avg_rigid, [('label2','images')]),\n",
    "                 ])\n",
    "\n",
    "workflow.write_graph()\n",
    "workflow.run(plugin='SLURM', plugin_args={'jobid_re': '([0-9]*)', 'sbatch_args': '-t 4 -g 4 --partition nimh'})\n",
    "#workflow.run()"
   ]
  },
  {
   "cell_type": "code",
   "execution_count": 31,
   "metadata": {
    "collapsed": false
   },
   "outputs": [
    {
     "name": "stdout",
     "output_type": "stream",
     "text": [
      "[1, 2, 3, 1, 2, 3, 1, 2, 3]\n"
     ]
    }
   ],
   "source": [
    "# Scratch pad\n",
    "\n",
    "import numpy as np\n",
    "a = [1,2,3]\n",
    "a = np.ndarray.tolist(np.tile(a,[1,3]))\n",
    "flattened = [val for sublist in a for val in sublist]\n",
    "print(flattened)"
   ]
  }
 ],
 "metadata": {
  "kernelspec": {
   "display_name": "Python 3",
   "language": "python",
   "name": "python3"
  },
  "language_info": {
   "codemirror_mode": {
    "name": "ipython",
    "version": 3
   },
   "file_extension": ".py",
   "mimetype": "text/x-python",
   "name": "python",
   "nbconvert_exporter": "python",
   "pygments_lexer": "ipython3",
   "version": "3.5.2"
  }
 },
 "nbformat": 4,
 "nbformat_minor": 0
}
